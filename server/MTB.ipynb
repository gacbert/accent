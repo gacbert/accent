{
 "cells": [
  {
   "cell_type": "code",
   "execution_count": 1,
   "metadata": {},
   "outputs": [],
   "source": [
    "from bs4 import BeautifulSoup\n",
    "import requests\n",
    "from PIL import Image\n",
    "from PIL.ImageDraw import Draw\n",
    "import sys\n",
    "sys.path.append(\"../server/\")\n",
    "resp=requests.get('https://www.trianglemtb.com')\n",
    "soup=BeautifulSoup(resp.text,'html.parser') "
   ]
  },
  {
   "cell_type": "code",
   "execution_count": 2,
   "metadata": {},
   "outputs": [],
   "source": [
    "def get_status_dict():\n",
    "    resp = requests.get('https://www.trianglemtb.com')\n",
    "    soup=BeautifulSoup(resp.text,'html.parser') \n",
    "    status_dict = {}\n",
    "    a = soup.findAll(\"span\")\n",
    "    for item in a:\n",
    "        if 'CLOSED' in item.text or 'OPEN' in item.text:\n",
    "            test = item\n",
    "            status_dict[test.parent.parent.parent.a.text] = True if 'OPEN' in item.text else False\n",
    "    return status_dict"
   ]
  },
  {
   "cell_type": "code",
   "execution_count": 3,
   "metadata": {},
   "outputs": [],
   "source": [
    "status = get_status_dict()"
   ]
  },
  {
   "cell_type": "code",
   "execution_count": 4,
   "metadata": {},
   "outputs": [],
   "source": [
    "def image(status):\n",
    "    \n",
    "\n",
    "    from calendar import Calendar\n",
    "    from calendar import monthrange\n",
    "    from calendar import SUNDAY\n",
    "    from collections import Counter\n",
    "    from datetime import datetime\n",
    "    from datetime import timedelta\n",
    "    from dateutil.parser import parse\n",
    "    from googleapiclient import discovery\n",
    "    from googleapiclient.http import build_http\n",
    "    from logging import warning\n",
    "    from logging import error\n",
    "    from oauth2client.client import HttpAccessTokenRefreshError\n",
    "    from PIL import Image\n",
    "    from PIL.ImageDraw import Draw\n",
    "\n",
    "    from epd import DISPLAY_WIDTH\n",
    "    from epd import DISPLAY_HEIGHT\n",
    "    from firestore import DataError\n",
    "    from firestore import GoogleCalendarStorage\n",
    "    from graphics import draw_text\n",
    "    from graphics import SUBVARIO_CONDENSED_MEDIUM\n",
    "    from graphics import SCREENSTAR_LARGE_REGULAR\n",
    "    from content import ContentError\n",
    "    from content import ImageContent\n",
    "    from local_time import LocalTime\n",
    "    \"\"\"Generates an image with MTB status\"\"\"\n",
    "\n",
    "    # The width of the display in pixels.\n",
    "    DISPLAY_WIDTH = 640\n",
    "\n",
    "    # The height of the display in pixels.\n",
    "    DISPLAY_HEIGHT = 384\n",
    "\n",
    "    # The color of the image background.\n",
    "    BACKGROUND_COLOR = (255, 255, 255)\n",
    "\n",
    "    # The color used for days.\n",
    "    NUMBER_COLOR = (0, 0, 0)\n",
    "\n",
    "    # The color used for the current day and events.\n",
    "    TODAY_COLOR = (255, 255, 255)\n",
    "\n",
    "    # The squircle image file.\n",
    "    SQUIRCLE_FILE = 'assets/squircle.gif'\n",
    "\n",
    "    # The dot image file.\n",
    "    DOT_FILE = 'assets/dot.gif'\n",
    "\n",
    "    # The offset used to vertically center the numbers in the squircle.\n",
    "    NUMBER_Y_OFFSET = 0\n",
    "\n",
    "    # The horizontal margin between dots.\n",
    "    DOT_MARGIN = 4\n",
    "\n",
    "    # The vertical offset between dots and numbers.\n",
    "    DOT_OFFSET = 16\n",
    "\n",
    "    # The color used to highlight the current day and events.\n",
    "    HIGHLIGHT_COLOR = (255, 0, 0)\n",
    "\n",
    "    TEXT_COLOR = (0, 0, 0)\n",
    "\n",
    "    trail_num = len(status.keys())\n",
    "\n",
    "    # Create a blank image.\n",
    "    image = Image.new(mode='RGB', size=(DISPLAY_WIDTH, DISPLAY_HEIGHT),\n",
    "                      color=BACKGROUND_COLOR)\n",
    "    draw = Draw(image)\n",
    "\n",
    "    # Determine the spacing of the days in the image.\n",
    "    y_stride = DISPLAY_HEIGHT // (trail_num + 1)\n",
    "\n",
    "    \n",
    "    draw_text('Mountain Bike', SCREENSTAR_LARGE_REGULAR, TEXT_COLOR,\n",
    "                  xy=(200, (DISPLAY_HEIGHT / 2)-20) ,image=image)\n",
    "    draw_text('Trail Status', SCREENSTAR_LARGE_REGULAR, TEXT_COLOR,\n",
    "                  xy=(200, (DISPLAY_HEIGHT / 2)) ,image=image)\n",
    "    \n",
    "    # Draw each week in a row.\n",
    "    trails = list(status.keys())\n",
    "    for trail_index in range(trail_num):\n",
    "        \n",
    "        if not status[trails[trail_index]]:\n",
    "            bg_color = HIGHLIGHT_COLOR\n",
    "            color = HIGHLIGHT_COLOR\n",
    "        else:\n",
    "            color = TEXT_COLOR\n",
    "            bg_color = None\n",
    "            \n",
    "        y = (trail_index + 1) * y_stride\n",
    "        draw_text(str(trails[trail_index]), SUBVARIO_CONDENSED_MEDIUM, TEXT_COLOR,\n",
    "                  xy=(400, y - NUMBER_Y_OFFSET), image=image, box_color = bg_color)\n",
    "        \n",
    "        dot = Image.open(DOT_FILE).convert(mode='RGBA')\n",
    "        dot = dot.resize((15,15))\n",
    "        dot_xy = [600,y- dot.width // 2]\n",
    "        draw.bitmap(dot_xy, dot, color)\n",
    "        \n",
    "    return image"
   ]
  },
  {
   "cell_type": "code",
   "execution_count": 5,
   "metadata": {},
   "outputs": [],
   "source": [
    "im = image(status)"
   ]
  },
  {
   "cell_type": "code",
   "execution_count": 6,
   "metadata": {},
   "outputs": [
    {
     "data": {
      "image/png": "[encoded data removed]",
      "text/plain": [
       "<PIL.Image.Image image mode=RGB size=640x384 at 0x7F7F29255F60>"
      ]
     },
     "execution_count": 6,
     "metadata": {},
     "output_type": "execute_result"
    }
   ],
   "source": [
    "im"
   ]
  },
  {
   "cell_type": "code",
   "execution_count": null,
   "metadata": {},
   "outputs": [],
   "source": []
  },
  {
   "cell_type": "code",
   "execution_count": null,
   "metadata": {},
   "outputs": [],
   "source": []
  }
 ],
 "metadata": {
  "kernelspec": {
   "display_name": "Python 3",
   "language": "python",
   "name": "python3"
  },
  "language_info": {
   "codemirror_mode": {
    "name": "ipython",
    "version": 3
   },
   "file_extension": ".py",
   "mimetype": "text/x-python",
   "name": "python",
   "nbconvert_exporter": "python",
   "pygments_lexer": "ipython3",
   "version": "3.6.8"
  }
 },
 "nbformat": 4,
 "nbformat_minor": 2
}
